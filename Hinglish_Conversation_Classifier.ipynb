{
 "cells": [
  {
   "cell_type": "markdown",
   "id": "788e6360-b163-450c-bb0c-3ee3d18bf782",
   "metadata": {},
   "source": [
    "# *Detecting Catfishing and Unhealthy Communication on Social Media by Karan Zaveri*"
   ]
  },
  {
   "cell_type": "markdown",
   "id": "9bea60d2-41bd-4c7f-aabc-d0ad42d4ddd8",
   "metadata": {},
   "source": [
    "# Hinglish Conversation Classifier\n",
    "\n",
    "This notebook demonstrates how to build a classifier for Hinglish conversations, focusing on the classification of text into three categories: `normal`, `toxic`, and `catfish`. The objective of building such a model is to help detect and stop catfishing and toxic conversations across social media platforms. Due to the recent rise in such events, which have led to monetary loss, depression, and other negative impacts, there is a growing need for automated tools to report and mitigate these harmful interactions. The process includes data loading, preprocessing, model training, and evaluation."
   ]
  },
  {
   "cell_type": "code",
   "execution_count": 1,
   "id": "87c3875f-10e3-4c1f-8392-3cfbd8d597fc",
   "metadata": {},
   "outputs": [
    {
     "name": "stderr",
     "output_type": "stream",
     "text": [
      "C:\\Users\\91720\\AppData\\Local\\Temp\\ipykernel_22616\\2911001931.py:21: SettingWithCopyWarning: \n",
      "A value is trying to be set on a copy of a slice from a DataFrame.\n",
      "Try using .loc[row_indexer,col_indexer] = value instead\n",
      "\n",
      "See the caveats in the documentation: https://pandas.pydata.org/pandas-docs/stable/user_guide/indexing.html#returning-a-view-versus-a-copy\n",
      "  data_cleaned['Encoded_Label'] = label_encoder.fit_transform(data_cleaned['Label'])\n",
      "C:\\Users\\91720\\AppData\\Local\\Temp\\ipykernel_22616\\2911001931.py:29: SettingWithCopyWarning: \n",
      "A value is trying to be set on a copy of a slice from a DataFrame.\n",
      "Try using .loc[row_indexer,col_indexer] = value instead\n",
      "\n",
      "See the caveats in the documentation: https://pandas.pydata.org/pandas-docs/stable/user_guide/indexing.html#returning-a-view-versus-a-copy\n",
      "  data_cleaned['Processed_Conversation'] = data_cleaned['Conversation'].apply(preprocess_text)\n"
     ]
    },
    {
     "name": "stdout",
     "output_type": "stream",
     "text": [
      "Test Set Accuracy: 0.92\n"
     ]
    },
    {
     "data": {
      "image/png": "[encoded data removed]",
      "text/plain": [
       "<Figure size 640x480 with 2 Axes>"
      ]
     },
     "metadata": {},
     "output_type": "display_data"
    },
    {
     "name": "stdout",
     "output_type": "stream",
     "text": [
      "              precision    recall  f1-score   support\n",
      "\n",
      "      normal       0.81      1.00      0.90        13\n",
      "       toxic       1.00      1.00      1.00         8\n",
      "     catfish       1.00      0.83      0.91        18\n",
      "\n",
      "    accuracy                           0.92        39\n",
      "   macro avg       0.94      0.94      0.94        39\n",
      "weighted avg       0.94      0.92      0.92        39\n",
      "\n"
     ]
    }
   ],
   "source": [
    "import pandas as pd\n",
    "import re\n",
    "from sklearn.model_selection import train_test_split\n",
    "from sklearn.feature_extraction.text import TfidfVectorizer\n",
    "from sklearn.linear_model import LogisticRegression\n",
    "from sklearn.pipeline import make_pipeline\n",
    "from sklearn.metrics import classification_report, confusion_matrix\n",
    "import seaborn as sns\n",
    "import matplotlib.pyplot as plt\n",
    "from sklearn.preprocessing import LabelEncoder\n",
    "\n",
    "# Load the cleaned dataset from CSV\n",
    "data = pd.read_excel('Cleaned_Hinglish_Conversations.xlsx')\n",
    "\n",
    "# Ensure only valid labels are kept\n",
    "valid_labels = ['normal', 'toxic', 'catfish']\n",
    "data_cleaned = data[data['Label'].isin(valid_labels)]\n",
    "\n",
    "# Encode the labels\n",
    "label_encoder = LabelEncoder()\n",
    "data_cleaned['Encoded_Label'] = label_encoder.fit_transform(data_cleaned['Label'])\n",
    "\n",
    "# Preprocess the conversation text\n",
    "def preprocess_text(text):\n",
    "    text = text.lower()  # Convert to lowercase\n",
    "    text = re.sub(r'[^a-zA-Z\\s]', '', text)  # Remove special characters\n",
    "    return text\n",
    "\n",
    "data_cleaned['Processed_Conversation'] = data_cleaned['Conversation'].apply(preprocess_text)\n",
    "\n",
    "# Split the dataset into training and testing sets\n",
    "X = data_cleaned['Processed_Conversation']\n",
    "y = data_cleaned['Encoded_Label']\n",
    "X_train, X_test, y_train, y_test = train_test_split(X, y, test_size=0.2, random_state=42)\n",
    "\n",
    "# Create and train the model\n",
    "model = make_pipeline(TfidfVectorizer(), LogisticRegression())\n",
    "model.fit(X_train, y_train)\n",
    "\n",
    "# Evaluate the model\n",
    "y_pred = model.predict(X_test)\n",
    "accuracy = model.score(X_test, y_test)\n",
    "print(f\"Test Set Accuracy: {accuracy:.2f}\")\n",
    "\n",
    "# Generate and display the confusion matrix\n",
    "conf_matrix = confusion_matrix(y_test, y_pred, labels=label_encoder.transform(valid_labels))\n",
    "sns.heatmap(conf_matrix, annot=True, fmt='d', cmap='Blues', xticklabels=valid_labels, yticklabels=valid_labels)\n",
    "plt.xlabel('Predicted')\n",
    "plt.ylabel('Actual')\n",
    "plt.title('Confusion Matrix')\n",
    "plt.show()\n",
    "\n",
    "# Generate the classification report\n",
    "report = classification_report(y_test, y_pred, labels=label_encoder.transform(valid_labels), target_names=valid_labels)\n",
    "print(report)\n"
   ]
  },
  {
   "cell_type": "code",
   "execution_count": 2,
   "id": "e570064d-a028-4af6-99fa-ee26d0fa73e5",
   "metadata": {},
   "outputs": [
    {
     "name": "stdout",
     "output_type": "stream",
     "text": [
      "Cross-validation scores: [0.92307692 0.92105263 0.73684211 0.89473684 0.57894737]\n",
      "Mean cross-validation accuracy: 0.81\n"
     ]
    }
   ],
   "source": [
    "from sklearn.model_selection import cross_val_score\n",
    "\n",
    "# Perform 5-fold cross-validation\n",
    "cv_scores = cross_val_score(model, X, y, cv=5, scoring='accuracy')\n",
    "\n",
    "# Print the cross-validation results\n",
    "print(f\"Cross-validation scores: {cv_scores}\")\n",
    "print(f\"Mean cross-validation accuracy: {cv_scores.mean():.2f}\")"
   ]
  },
  {
   "cell_type": "code",
   "execution_count": 3,
   "id": "721cf1fd-cfa9-48f1-b2a0-a811bb364fe3",
   "metadata": {},
   "outputs": [
    {
     "name": "stdout",
     "output_type": "stream",
     "text": [
      "Best parameters found: {'logisticregression__C': 1, 'tfidfvectorizer__max_df': 0.5, 'tfidfvectorizer__min_df': 2, 'tfidfvectorizer__ngram_range': (1, 1)}\n",
      "Best cross-validation accuracy: 0.95\n",
      "Test Set Accuracy with Best Parameters: 0.92\n"
     ]
    }
   ],
   "source": [
    "from sklearn.model_selection import GridSearchCV\n",
    "\n",
    "# Define the parameter grid\n",
    "param_grid = {\n",
    "    'logisticregression__C': [0.01, 0.1, 1, 10, 100],\n",
    "    'tfidfvectorizer__ngram_range': [(1, 1), (1, 2)],\n",
    "    'tfidfvectorizer__max_df': [0.5, 0.75, 1.0],\n",
    "    'tfidfvectorizer__min_df': [1, 2, 5]\n",
    "}\n",
    "\n",
    "# Initialize GridSearchCV\n",
    "grid_search = GridSearchCV(model, param_grid, cv=5, scoring='accuracy', n_jobs=-1)\n",
    "\n",
    "# Perform the grid search\n",
    "grid_search.fit(X_train, y_train)\n",
    "\n",
    "# Print the best parameters and the corresponding score\n",
    "print(f\"Best parameters found: {grid_search.best_params_}\")\n",
    "print(f\"Best cross-validation accuracy: {grid_search.best_score_:.2f}\")\n",
    "\n",
    "# Update the model with the best parameers\n",
    "best_model = grid_search.best_estimator_\n",
    "\n",
    "# Evaluate the updated model on the test set\n",
    "test_accuracy = best_model.score(X_test, y_test)\n",
    "print(f\"Test Set Accuracy with Best Parameters: {test_accuracy:.2f}\")"
   ]
  },
  {
   "cell_type": "code",
   "execution_count": 5,
   "id": "13962451-8c64-4ebd-9ac5-75b40d2db30f",
   "metadata": {},
   "outputs": [
    {
     "name": "stdin",
     "output_type": "stream",
     "text": [
      "Enter a statement:  mai tumhari life set kar sakta hu\n"
     ]
    },
    {
     "name": "stdout",
     "output_type": "stream",
     "text": [
      "The input statement is classified as: catfish\n"
     ]
    }
   ],
   "source": [
    "def classify_user_input():\n",
    "    user_input = input(\"Enter a statement: \")\n",
    "    processed_input = preprocess_text(user_input)\n",
    "    prediction = model.predict([processed_input])\n",
    "    predicted_label = label_encoder.inverse_transform(prediction)[0]\n",
    "    print(f\"The input statement is classified as: {predicted_label}\")\n",
    "\n",
    "# Call the function to classify user input\n",
    "classify_user_input()"
   ]
  }
 ],
 "metadata": {
  "kernelspec": {
   "display_name": "Python 3 (ipykernel)",
   "language": "python",
   "name": "python3"
  },
  "language_info": {
   "codemirror_mode": {
    "name": "ipython",
    "version": 3
   },
   "file_extension": ".py",
   "mimetype": "text/x-python",
   "name": "python",
   "nbconvert_exporter": "python",
   "pygments_lexer": "ipython3",
   "version": "3.11.5"
  }
 },
 "nbformat": 4,
 "nbformat_minor": 5
}
